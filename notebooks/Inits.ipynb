{
 "cells": [
  {
   "cell_type": "code",
   "execution_count": 27,
   "metadata": {},
   "outputs": [
    {
     "name": "stderr",
     "output_type": "stream",
     "text": [
      "┌ Warning: Pkg.installed() is deprecated\n",
      "└ @ Pkg C:\\buildbot\\worker\\package_win64\\build\\usr\\share\\julia\\stdlib\\v1.5\\Pkg\\src\\Pkg.jl:554\n",
      "┌ Warning: Pkg.installed() is deprecated\n",
      "└ @ Pkg C:\\buildbot\\worker\\package_win64\\build\\usr\\share\\julia\\stdlib\\v1.5\\Pkg\\src\\Pkg.jl:554\n",
      "┌ Warning: Pkg.installed() is deprecated\n",
      "└ @ Pkg C:\\buildbot\\worker\\package_win64\\build\\usr\\share\\julia\\stdlib\\v1.5\\Pkg\\src\\Pkg.jl:554\n",
      "┌ Warning: Pkg.installed() is deprecated\n",
      "└ @ Pkg C:\\buildbot\\worker\\package_win64\\build\\usr\\share\\julia\\stdlib\\v1.5\\Pkg\\src\\Pkg.jl:554\n",
      "┌ Warning: Pkg.installed() is deprecated\n",
      "└ @ Pkg C:\\buildbot\\worker\\package_win64\\build\\usr\\share\\julia\\stdlib\\v1.5\\Pkg\\src\\Pkg.jl:554\n",
      "┌ Warning: Pkg.installed() is deprecated\n",
      "└ @ Pkg C:\\buildbot\\worker\\package_win64\\build\\usr\\share\\julia\\stdlib\\v1.5\\Pkg\\src\\Pkg.jl:554\n",
      "┌ Warning: Pkg.installed() is deprecated\n",
      "└ @ Pkg C:\\buildbot\\worker\\package_win64\\build\\usr\\share\\julia\\stdlib\\v1.5\\Pkg\\src\\Pkg.jl:554\n"
     ]
    }
   ],
   "source": [
    "# This cell will be updated with respect to needs of project\n",
    "using Pkg; for p in (\"Knet\",\"AutoGrad\",\"Plots\",\"Images\",\"ImageMagick\",\"ArgParse\",\"CUDA\"); haskey(Pkg.installed(),p) || Pkg.add(p); end\n",
    "using Knet\n",
    "using Random\n",
    "using Test\n",
    "import Base: length, size, iterate, eltype, IteratorSize, IteratorEltype, haslength, @propagate_inbounds, repeat, rand, tail\n",
    "import .Iterators: cycle, Cycle, take"
   ]
  },
  {
   "cell_type": "code",
   "execution_count": 10,
   "metadata": {},
   "outputs": [
    {
     "data": {
      "text/plain": [
       "Vocab"
      ]
     },
     "execution_count": 10,
     "metadata": {},
     "output_type": "execute_result"
    }
   ],
   "source": []
  },
  {
   "cell_type": "code",
   "execution_count": 15,
   "metadata": {},
   "outputs": [
    {
     "data": {
      "text/plain": [
       "Vocab(Dict(\"adviser\" => 1750,\"enjoy\" => 4607,\"advertisements\" => 7826,\"fight\" => 1441,\"nicholas\" => 3783,\"everywhere\" => 6278,\"surveyed\" => 3556,\"helping\" => 2081,\"whose\" => 621,\"manufacture\" => 5052…), [\"<s>\", \"<unk>\", \"the\", \"N\", \"of\", \"to\", \"a\", \"in\", \"and\", \"'s\"  …  \"cluett\", \"hydro-quebec\", \"memotec\", \"photography\", \"ipo\", \"ssangyong\", \"fromstein\", \"ferc\", \"gitano\", \"daewoo\"], 2, 1, split)"
      ]
     },
     "execution_count": 15,
     "metadata": {},
     "output_type": "execute_result"
    }
   ],
   "source": []
  },
  {
   "cell_type": "code",
   "execution_count": 36,
   "metadata": {},
   "outputs": [
    {
     "data": {
      "text/plain": [
       "10000"
      ]
     },
     "execution_count": 36,
     "metadata": {},
     "output_type": "execute_result"
    }
   ],
   "source": [
    "length(train_vocab.i2w)"
   ]
  },
  {
   "cell_type": "code",
   "execution_count": 16,
   "metadata": {},
   "outputs": [],
   "source": []
  },
  {
   "cell_type": "code",
   "execution_count": 17,
   "metadata": {},
   "outputs": [
    {
     "data": {
      "text/plain": [
       "Base.Generator{Tuple{String,String,String},var\"#13#14\"}(var\"#13#14\"(), (\"train\", \"valid\", \"test\"))"
      ]
     },
     "execution_count": 17,
     "metadata": {},
     "output_type": "execute_result"
    }
   ],
   "source": [
    "# Text Readers\n",
    "train_sentences, valid_sentences, test_sentences =\n",
    "    (TextReader(\"$datadir/$file.txt\", train_vocab) for file in (\"train\",\"valid\",\"test\"))"
   ]
  },
  {
   "cell_type": "code",
   "execution_count": 13,
   "metadata": {},
   "outputs": [],
   "source": [
    "# must refer 542\n",
    "s"
   ]
  },
  {
   "cell_type": "code",
   "execution_count": 31,
   "metadata": {},
   "outputs": [
    {
     "data": {
      "text/plain": [
       "64×21 Array{Int64,2}:\n",
       "  771   400     5   737    83   886    10  …  3031     1    1     1     1  1\n",
       "   68     3   333    14     8     7     2        1     1    1     1     1  1\n",
       " 3187    27  2394    12     7  3534     5        1     1    1     1     1  1\n",
       "    2    78  7439     6     2    22    71        1     1    1     1     1  1\n",
       "   19     3   236     5     3   273     2        1     1    1     1     1  1\n",
       "   19     2  2168  4609   545     3     2  …   409  1504  311     1     1  1\n",
       "   17     3   112  1016    20   638    20       16    55  525  1016  1276  1\n",
       "  248   279    80    26   920  6766    52        1     1    1     1     1  1\n",
       " 6268    80    33  5115    52   409    61       61    39   51     1     1  1\n",
       "  400     2    77     5  5564     5  4743      113   620    6   426   789  1\n",
       "   91     5     3    61   400   844   545  …     1     1    1     1     1  1\n",
       "  279    16    91     5    52   139  1261        1     1    1     1     1  1\n",
       "  125    32   332  1200    18     3   130     2139  4122    8   484     1  1\n",
       "    ⋮                             ⋮        ⋱     ⋮                         ⋮\n",
       "   60  4964  9304    43   534    58   294        1     1    1     1     1  1\n",
       "   30     7   404   462     5   505  5581      585    16    1     1     1  1\n",
       "    7   139   879    14    11   117   293      194   156  755   383     1  1\n",
       "    2    82    35  4337     8   182   127  …   246    56  386     2   789  1\n",
       "   98   294   585  1992    11   100    10        1     1    1     1     1  1\n",
       " 3876    10    24   832    12    50   202       61   593    2     1     1  1\n",
       "   67     3    48  5343   393   326    29       20  5514    9  3358     1  1\n",
       "  139  5811   716    16  1692   715    47        1     1    1     1     1  1\n",
       "   39  1160     6  1267     3     2  1692  …   117     8  522     2     1  1\n",
       " 3876    17  2064  1245    28     2     2        1     1    1     1     1  1\n",
       "    8   491   519  1822  1584    34   670     1799     2    1     1     1  1\n",
       " 2213  4035   116  1120    81   370    28        1     1    1     1     1  1"
      ]
     },
     "execution_count": 31,
     "metadata": {},
     "output_type": "execute_result"
    }
   ],
   "source": [
    "# Iters\n"
   ]
  },
  {
   "cell_type": "code",
   "execution_count": 37,
   "metadata": {},
   "outputs": [
    {
     "data": {
      "text/plain": [
       "(64, 21, 512, 10000)"
      ]
     },
     "execution_count": 37,
     "metadata": {},
     "output_type": "execute_result"
    }
   ],
   "source": [
    "B,T,E,V = 64,21,512,10000"
   ]
  },
  {
   "cell_type": "code",
   "execution_count": 50,
   "metadata": {},
   "outputs": [
    {
     "data": {
      "text/plain": [
       "mask! (generic function with 1 method)"
      ]
     },
     "execution_count": 50,
     "metadata": {},
     "output_type": "execute_result"
    }
   ],
   "source": [
    "#Linear\n",
    "struct Linear\n",
    "    w\n",
    "    b\n",
    "end\n",
    "\n",
    "function Linear(inputsize::Int, outputsize::Int)\n",
    "    Linear(param(outputsize, inputsize), param0(outputsize))\n",
    "end\n",
    "\n",
    "function (l::Linear)(x)\n",
    "    l.w * mat(x, dims = 1) .+ l.b\n",
    "end\n",
    "\n",
    "# Mask!\n",
    "function mask!(a, pad)\n",
    "    matr = a\n",
    "    for j = 1:size(matr)[1]\n",
    "        i = 0\n",
    "        while (i < length(matr[j, :]) - 1)\n",
    "            if matr[j, length(matr[j, :])-i-1] != pad\n",
    "                break\n",
    "\n",
    "            elseif matr[j, length(matr[j, :])-i] == pad\n",
    "                matr[j, length(matr[j, :])-i] = 0\n",
    "            end\n",
    "            i += 1\n",
    "        end\n",
    "    end\n",
    "    matr\n",
    "end"
   ]
  },
  {
   "cell_type": "code",
   "execution_count": 52,
   "metadata": {},
   "outputs": [],
   "source": [
    "#Embed\n",
    "struct Embed\n",
    "    w\n",
    "end\n",
    "\n",
    "function Embed(vocabsize::Int, embedsize::Int)\n",
    "    Embed(param(embedsize, vocabsize))\n",
    "end\n",
    "\n",
    "# Attention here: Format has been changed for now\n",
    "function (l::Embed)(x)\n",
    "    l.w[:, x] # Format has been changed to T,E,B\n",
    "end"
   ]
  },
  {
   "cell_type": "code",
   "execution_count": 53,
   "metadata": {},
   "outputs": [
    {
     "name": "stdout",
     "output_type": "stream",
     "text": [
      "  0.004200 seconds (1.30 k allocations: 89.969 KiB)\n"
     ]
    },
    {
     "data": {
      "text/plain": [
       "512×64×21 KnetArray{Float32,3}:\n",
       "[:, :, 1] =\n",
       "  0.0199282   -0.0171832     0.0224332   …  -0.000319522   0.0112202\n",
       " -0.00343072  -0.000590812  -0.0181531      -0.0180947    -0.00183304\n",
       " -0.0149647    0.0104254    -0.00553576      0.011508     -0.004317\n",
       "  0.0194361    0.00421577   -0.0088441      -0.0101454     0.00162516\n",
       " -0.00819135  -0.0185066    -0.0159121      -0.0228895     0.0131603\n",
       "  0.0023064   -0.0127011    -0.0134652   …   0.00375353    0.0146729\n",
       "  0.00451766  -0.0087843    -0.0207024       0.0194069     0.00257652\n",
       " -0.0200098    0.0105619    -0.0217053      -0.00769338   -0.0170629\n",
       " -0.0066553    0.00953789    0.0219039      -0.00398575    0.017724\n",
       " -0.0156316    0.0130873     0.0186937      -0.00614243   -0.00866471\n",
       "  0.0216567    0.0155919    -0.00645063  …   0.00718962    0.00309524\n",
       " -0.00496917   0.00846041    0.0152511      -0.0100179     0.00248902\n",
       "  0.0135022   -0.0138407     0.0158806       0.0143733    -0.00556185\n",
       "  ⋮                                      ⋱                \n",
       " -0.0166104   -0.0174715     0.0149116   …  -0.018596     -0.0202463\n",
       " -0.00608921  -0.00449474   -0.00868327     -0.019102     -0.00881695\n",
       " -0.022567     0.000314346   0.00336777      0.00528242    0.0178431\n",
       " -0.0104036    0.0165066     0.0141998      -0.0102385     0.00496384\n",
       " -0.020582    -0.0137147    -0.0214617      -0.0146472    -0.0159208\n",
       "  0.00402313   0.000812317   0.0154324   …   0.000713125  -0.0159297\n",
       "  0.00832029  -0.0108215    -0.0205762      -0.00596733   -0.00025515\n",
       " -0.00784645  -0.00617263    0.00464472     -0.0204834    -0.0189888\n",
       "  0.0200591    0.0220188     0.0122642       0.0183541    -0.00932461\n",
       " -0.0237666   -0.0032084    -0.00496395      0.0170936    -0.007358\n",
       "  0.0232801   -0.0238778     0.00607904  …   0.0101525     0.0218821\n",
       " -0.0192274   -0.00667061   -0.0113065      -0.0184417     0.0040019\n",
       "\n",
       "[:, :, 2] =\n",
       " -0.0155789   -0.0138668    0.00458146  …   0.00900303  -0.00468728\n",
       "  0.00451507   0.0229172   -0.0167943       0.00543638  -0.0134694\n",
       " -0.0150677   -0.0208104   -0.0105715       0.0141462   -0.00724871\n",
       "  0.0105371   -0.0205754    0.00559223     -0.0230454   -0.0225585\n",
       " -0.00703777  -0.00155295   0.0169497       0.0206514   -0.00335937\n",
       " -0.00115876  -0.0222575    0.0149634   …   0.00779172  -0.0211922\n",
       "  0.00686252  -0.0214308   -0.00528404     -0.00311721  -0.01508\n",
       "  0.0118455    0.0184277    0.00688818     -0.0147533   -0.016553\n",
       " -0.0100201   -0.0227716   -0.0114451      -0.0175283    0.0185037\n",
       "  0.00476883  -0.0128306    0.00510452      0.0103115   -0.0134492\n",
       " -0.0170335   -0.0019229   -0.0151103   …   0.0141118   -0.000320583\n",
       "  0.0139604   -0.00507474  -0.00438039     -0.0134931    0.000470857\n",
       " -0.0175044    0.00820394  -0.00608482     -0.0128347    0.0176657\n",
       "  ⋮                                     ⋱               \n",
       "  0.00750596   0.023377     0.00291472  …   0.0120373   -0.0043553\n",
       "  0.00625887   0.0112951   -0.00505759      0.0171011    0.00463641\n",
       "  0.00684894   0.0215614    0.0200391      -0.0205821    0.0095795\n",
       " -0.00360579  -0.0196397   -0.0194908       0.0107247   -0.00426662\n",
       " -0.0188208   -0.00854379  -0.0152378       0.00806307  -0.0202082\n",
       " -3.69591f-5   0.0158948   -0.00882451  …   0.014833     0.0092546\n",
       "  0.00128101   0.0084748   -0.00384441      0.012979    -0.0143035\n",
       " -0.00835772   0.00606596  -0.018351       -0.00684625   0.0162504\n",
       "  0.0199524   -0.010024     0.0177949      -0.00372448  -0.00421604\n",
       "  0.0169174   -0.0147314    0.0105099       0.0006068   -0.0076006\n",
       " -0.0151286    0.0123203   -0.0189804   …   0.00697811  -0.0131662\n",
       "  0.0174674   -0.0108509   -0.0237079      -0.010271     0.0178912\n",
       "\n",
       "[:, :, 3] =\n",
       " -0.00516066  -0.00115225    0.0100677    …  -0.00371982  -0.0104247\n",
       " -0.0162777   -0.00751823    0.023016         0.0171676    0.000651975\n",
       " -0.00128796  -0.0179653    -0.0106053       -0.0158983    0.000754083\n",
       " -0.0127274   -0.00140057   -0.0189645       -0.0112652   -0.0186619\n",
       "  0.00595753  -0.0199809    -0.0148134       -0.01378      0.00758539\n",
       " -0.00599778   0.000500301   0.0101552    …   0.00922342   0.0224089\n",
       " -0.0216027   -0.0176275     0.00894778      -0.0166452   -0.0040701\n",
       "  0.0202095   -0.00486087    0.0217          -0.0107884   -0.015635\n",
       "  0.0212153   -0.0142761    -9.20007f-5       0.0207323    0.0161762\n",
       " -0.0157772   -0.0182131     0.0159174        0.0149996   -7.0958f-5\n",
       "  0.00629324  -0.0213171    -0.00240823   …  -0.00809954   0.00942971\n",
       "  0.00156314  -0.00268366   -0.00912071       0.00404017  -0.022562\n",
       "  0.0020601    0.014976     -0.0100861        0.0146169    0.00677723\n",
       "  ⋮                                       ⋱               \n",
       " -0.0236766    0.0231468    -0.0076043    …   0.0232856    0.0188443\n",
       "  0.00219842  -0.019776      0.0047869       -0.00322674   0.019965\n",
       " -0.0144725    0.00413767   -0.0185899        0.00582549  -0.00730125\n",
       " -0.0162668    0.0184375    -0.00657439       0.020964    -0.0183112\n",
       " -0.00482805  -0.00996412   -0.00631786      -0.0202881   -0.0132546\n",
       "  0.00885662  -0.016467      0.000537518  …   0.016682     0.0199684\n",
       " -0.022097    -0.0159116     0.00165843      -0.01168      0.00728925\n",
       "  0.00244791  -0.0104543     0.0187984       -1.98981f-5  -0.00326606\n",
       " -0.0194159    0.0211014    -0.0131867       -0.0057786    0.011868\n",
       " -0.00845374   0.0116879     0.0171015        0.0157278   -0.0207389\n",
       " -0.0161235    0.0153517    -0.0196435    …  -0.00862983  -0.0089377\n",
       "  0.0227995   -0.0153134     0.014556         0.0182312    0.0177826\n",
       "\n",
       "...\n",
       "\n",
       "[:, :, 19] =\n",
       "  0.00688338    0.00688338    0.00688338   …   0.00688338    0.00688338\n",
       "  0.0084141     0.0084141     0.0084141        0.0084141     0.0084141\n",
       "  0.00570957    0.00570957    0.00570957       0.00570957    0.00570957\n",
       " -0.0129115    -0.0129115    -0.0129115       -0.0129115    -0.0129115\n",
       " -0.000100905  -0.000100905  -0.000100905     -0.000100905  -0.000100905\n",
       " -0.0210365    -0.0210365    -0.0210365    …  -0.0210365    -0.0210365\n",
       "  0.00543742    0.00543742    0.00543742       0.00543742    0.00543742\n",
       "  0.0223175     0.0223175     0.0223175        0.0223175     0.0223175\n",
       " -0.00679929   -0.00679929   -0.00679929      -0.00679929   -0.00679929\n",
       "  0.0122565     0.0122565     0.0122565        0.0122565     0.0122565\n",
       " -0.015371     -0.015371     -0.015371     …  -0.015371     -0.015371\n",
       "  0.0169513     0.0169513     0.0169513        0.0169513     0.0169513\n",
       "  0.00716163    0.00716163    0.00716163       0.00716163    0.00716163\n",
       "  ⋮                                        ⋱                \n",
       " -0.0186705    -0.0186705    -0.0186705    …  -0.0186705    -0.0186705\n",
       " -0.00845389   -0.00845389   -0.00845389      -0.00845389   -0.00845389\n",
       " -0.00287585   -0.00287585   -0.00287585      -0.00287585   -0.00287585\n",
       " -0.00791099   -0.00791099   -0.00791099      -0.00791099   -0.00791099\n",
       " -0.00645642   -0.00645642   -0.00645642      -0.00645642   -0.00645642\n",
       "  0.0200311     0.0200311     0.0200311    …   0.0200311     0.0200311\n",
       " -0.0108633    -0.0108633    -0.0108633       -0.0108633    -0.0108633\n",
       "  0.0206042     0.0206042     0.0206042        0.0206042     0.0206042\n",
       " -0.0168742    -0.0168742    -0.0168742       -0.0168742    -0.0168742\n",
       " -0.00494588   -0.00494588   -0.00494588      -0.00494588   -0.00494588\n",
       " -0.0153732    -0.0153732    -0.0153732    …  -0.0153732    -0.0153732\n",
       "  0.00542509    0.00542509    0.00542509       0.00542509    0.00542509\n",
       "\n",
       "[:, :, 20] =\n",
       "  0.00688338    0.00688338    0.00688338   …   0.00688338    0.00688338\n",
       "  0.0084141     0.0084141     0.0084141        0.0084141     0.0084141\n",
       "  0.00570957    0.00570957    0.00570957       0.00570957    0.00570957\n",
       " -0.0129115    -0.0129115    -0.0129115       -0.0129115    -0.0129115\n",
       " -0.000100905  -0.000100905  -0.000100905     -0.000100905  -0.000100905\n",
       " -0.0210365    -0.0210365    -0.0210365    …  -0.0210365    -0.0210365\n",
       "  0.00543742    0.00543742    0.00543742       0.00543742    0.00543742\n",
       "  0.0223175     0.0223175     0.0223175        0.0223175     0.0223175\n",
       " -0.00679929   -0.00679929   -0.00679929      -0.00679929   -0.00679929\n",
       "  0.0122565     0.0122565     0.0122565        0.0122565     0.0122565\n",
       " -0.015371     -0.015371     -0.015371     …  -0.015371     -0.015371\n",
       "  0.0169513     0.0169513     0.0169513        0.0169513     0.0169513\n",
       "  0.00716163    0.00716163    0.00716163       0.00716163    0.00716163\n",
       "  ⋮                                        ⋱                \n",
       " -0.0186705    -0.0186705    -0.0186705    …  -0.0186705    -0.0186705\n",
       " -0.00845389   -0.00845389   -0.00845389      -0.00845389   -0.00845389\n",
       " -0.00287585   -0.00287585   -0.00287585      -0.00287585   -0.00287585\n",
       " -0.00791099   -0.00791099   -0.00791099      -0.00791099   -0.00791099\n",
       " -0.00645642   -0.00645642   -0.00645642      -0.00645642   -0.00645642\n",
       "  0.0200311     0.0200311     0.0200311    …   0.0200311     0.0200311\n",
       " -0.0108633    -0.0108633    -0.0108633       -0.0108633    -0.0108633\n",
       "  0.0206042     0.0206042     0.0206042        0.0206042     0.0206042\n",
       " -0.0168742    -0.0168742    -0.0168742       -0.0168742    -0.0168742\n",
       " -0.00494588   -0.00494588   -0.00494588      -0.00494588   -0.00494588\n",
       " -0.0153732    -0.0153732    -0.0153732    …  -0.0153732    -0.0153732\n",
       "  0.00542509    0.00542509    0.00542509       0.00542509    0.00542509\n",
       "\n",
       "[:, :, 21] =\n",
       "  0.00688338    0.00688338    0.00688338   …   0.00688338    0.00688338\n",
       "  0.0084141     0.0084141     0.0084141        0.0084141     0.0084141\n",
       "  0.00570957    0.00570957    0.00570957       0.00570957    0.00570957\n",
       " -0.0129115    -0.0129115    -0.0129115       -0.0129115    -0.0129115\n",
       " -0.000100905  -0.000100905  -0.000100905     -0.000100905  -0.000100905\n",
       " -0.0210365    -0.0210365    -0.0210365    …  -0.0210365    -0.0210365\n",
       "  0.00543742    0.00543742    0.00543742       0.00543742    0.00543742\n",
       "  0.0223175     0.0223175     0.0223175        0.0223175     0.0223175\n",
       " -0.00679929   -0.00679929   -0.00679929      -0.00679929   -0.00679929\n",
       "  0.0122565     0.0122565     0.0122565        0.0122565     0.0122565\n",
       " -0.015371     -0.015371     -0.015371     …  -0.015371     -0.015371\n",
       "  0.0169513     0.0169513     0.0169513        0.0169513     0.0169513\n",
       "  0.00716163    0.00716163    0.00716163       0.00716163    0.00716163\n",
       "  ⋮                                        ⋱                \n",
       " -0.0186705    -0.0186705    -0.0186705    …  -0.0186705    -0.0186705\n",
       " -0.00845389   -0.00845389   -0.00845389      -0.00845389   -0.00845389\n",
       " -0.00287585   -0.00287585   -0.00287585      -0.00287585   -0.00287585\n",
       " -0.00791099   -0.00791099   -0.00791099      -0.00791099   -0.00791099\n",
       " -0.00645642   -0.00645642   -0.00645642      -0.00645642   -0.00645642\n",
       "  0.0200311     0.0200311     0.0200311    …   0.0200311     0.0200311\n",
       " -0.0108633    -0.0108633    -0.0108633       -0.0108633    -0.0108633\n",
       "  0.0206042     0.0206042     0.0206042        0.0206042     0.0206042\n",
       " -0.0168742    -0.0168742    -0.0168742       -0.0168742    -0.0168742\n",
       " -0.00494588   -0.00494588   -0.00494588      -0.00494588   -0.00494588\n",
       " -0.0153732    -0.0153732    -0.0153732    …  -0.0153732    -0.0153732\n",
       "  0.00542509    0.00542509    0.00542509       0.00542509    0.00542509"
      ]
     },
     "execution_count": 53,
     "metadata": {},
     "output_type": "execute_result"
    }
   ],
   "source": [
    "emb = Embed(V,E)\n",
    "@time q = emb(tst_inst)"
   ]
  },
  {
   "cell_type": "code",
   "execution_count": 55,
   "metadata": {},
   "outputs": [
    {
     "ename": "LoadError",
     "evalue": "DimensionMismatch(\"((512, 21), (512, 1344), (512, 1344))\")",
     "output_type": "error",
     "traceback": [
      "DimensionMismatch(\"((512, 21), (512, 1344), (512, 1344))\")",
      "",
      "Stacktrace:",
      " [1] gemm!(::Char, ::Char, ::Float32, ::KnetArray{Float32,2}, ::KnetArray{Float32,2}, ::Float32, ::KnetArray{Float32,2}) at C:\\Users\\USER\\.julia\\packages\\Knet\\LdQyF\\src\\knetarrays\\linalg.jl:35",
      " [2] *(::KnetArray{Float32,2}, ::KnetArray{Float32,2}) at C:\\Users\\USER\\.julia\\packages\\Knet\\LdQyF\\src\\knetarrays\\linalg.jl:11",
      " [3] forw(::Function, ::Param{KnetArray{Float32,2}}, ::Vararg{Any,N} where N; kwargs::Base.Iterators.Pairs{Union{},Union{},Tuple{},NamedTuple{(),Tuple{}}}) at C:\\Users\\USER\\.julia\\packages\\AutoGrad\\VFrAv\\src\\core.jl:66",
      " [4] forw at C:\\Users\\USER\\.julia\\packages\\AutoGrad\\VFrAv\\src\\core.jl:65 [inlined]",
      " [5] *(::Param{KnetArray{Float32,2}}, ::KnetArray{Float32,2}) at .\\none:0",
      " [6] (::Linear)(::KnetArray{Float32,3}) at .\\In[50]:12",
      " [7] top-level scope at In[55]:2",
      " [8] include_string(::Function, ::Module, ::String, ::String) at .\\loading.jl:1091"
     ]
    }
   ],
   "source": [
    "ln = Linear(T,E)\n",
    "ln(q)"
   ]
  },
  {
   "cell_type": "code",
   "execution_count": 74,
   "metadata": {},
   "outputs": [
    {
     "data": {
      "text/plain": [
       "positional_embedding (generic function with 1 method)"
      ]
     },
     "execution_count": 74,
     "metadata": {},
     "output_type": "execute_result"
    }
   ],
   "source": [
    "function positional_embedding(inp_length,dims)\n",
    "    PE = zeros(dims,inp_length)\n",
    "\n",
    "    pos = collect(0:inp_length-1) \n",
    "    \n",
    "    for i in 1:Int(dims/2)\n",
    "        core = pos/10^(5(2i-2)/dims)\n",
    "        PE[2i-1,:],PE[2i,:] = sin.(core),cos.(core)\n",
    "    end\n",
    "    \n",
    "    PE\n",
    "end   "
   ]
  },
  {
   "cell_type": "code",
   "execution_count": 80,
   "metadata": {},
   "outputs": [
    {
     "data": {
      "image/png": "[encoded data removed]"
     },
     "execution_count": 80,
     "metadata": {},
     "output_type": "execute_result"
    }
   ],
   "source": [
    "using Plots; default(fmt=:png,ls=:auto)\n",
    "PE = positional_embedding(10,64)\n",
    "heatmap(1:64, 1:10, transpose(PE), c = cgrad(:thermal, rev = true), xlabel=\"Embedding Dimension\", ylabel=\"Input Position\",\n",
    "    title=\"Positional Embedding\")"
   ]
  },
  {
   "cell_type": "code",
   "execution_count": 201,
   "metadata": {},
   "outputs": [],
   "source": [
    "import Statistics: mean,std"
   ]
  },
  {
   "cell_type": "code",
   "execution_count": 204,
   "metadata": {},
   "outputs": [
    {
     "name": "stdout",
     "output_type": "stream",
     "text": [
      "search: \u001b[0m\u001b[1ms\u001b[22m\u001b[0m\u001b[1mt\u001b[22m\u001b[0m\u001b[1md\u001b[22m \u001b[0m\u001b[1ms\u001b[22m\u001b[0m\u001b[1mt\u001b[22m\u001b[0m\u001b[1md\u001b[22min \u001b[0m\u001b[1ms\u001b[22m\u001b[0m\u001b[1mt\u001b[22m\u001b[0m\u001b[1md\u001b[22mout \u001b[0m\u001b[1ms\u001b[22m\u001b[0m\u001b[1mt\u001b[22m\u001b[0m\u001b[1md\u001b[22merr \u001b[0m\u001b[1ms\u001b[22me\u001b[0m\u001b[1mt\u001b[22m\u001b[0m\u001b[1md\u001b[22miff \u001b[0m\u001b[1ms\u001b[22me\u001b[0m\u001b[1mt\u001b[22m\u001b[0m\u001b[1md\u001b[22miff! @te\u001b[0m\u001b[1ms\u001b[22m\u001b[0m\u001b[1mt\u001b[22m_\u001b[0m\u001b[1md\u001b[22meprecated \u001b[0m\u001b[1ms\u001b[22m\u001b[0m\u001b[1mt\u001b[22mri\u001b[0m\u001b[1md\u001b[22me \u001b[0m\u001b[1ms\u001b[22m\u001b[0m\u001b[1mt\u001b[22mri\u001b[0m\u001b[1md\u001b[22mes\n",
      "\n"
     ]
    },
    {
     "data": {
      "text/latex": [
       "\\begin{verbatim}\n",
       "std(itr; corrected::Bool=true, mean=nothing[, dims])\n",
       "\\end{verbatim}\n",
       "Compute the sample standard deviation of collection \\texttt{itr}.\n",
       "\n",
       "The algorithm returns an estimator of the generative distribution's standard deviation under the assumption that each entry of \\texttt{itr} is an IID drawn from that generative distribution. For arrays, this computation is equivalent to calculating \\texttt{sqrt(sum((itr .- mean(itr)).\\^{}2) / (length(itr) - 1))}. If \\texttt{corrected} is \\texttt{true}, then the sum is scaled with \\texttt{n-1}, whereas the sum is scaled with \\texttt{n} if \\texttt{corrected} is \\texttt{false} with \\texttt{n} the number of elements in \\texttt{itr}.\n",
       "\n",
       "If \\texttt{itr} is an \\texttt{AbstractArray}, \\texttt{dims} can be provided to compute the standard deviation over dimensions, and \\texttt{means} may contain means for each dimension of \\texttt{itr}.\n",
       "\n",
       "A pre-computed \\texttt{mean} may be provided. When \\texttt{dims} is specified, \\texttt{mean} must be an array with the same shape as \\texttt{mean(itr, dims=dims)} (additional trailing singleton dimensions are allowed).\n",
       "\n",
       "\\begin{quote}\n",
       "\\textbf{note}\n",
       "\n",
       "Note\n",
       "\n",
       "If array contains \\texttt{NaN} or \\href{@ref}{\\texttt{missing}} values, the result is also \\texttt{NaN} or \\texttt{missing} (\\texttt{missing} takes precedence if array contains both). Use the \\href{@ref}{\\texttt{skipmissing}} function to omit \\texttt{missing} entries and compute the standard deviation of non-missing values.\n",
       "\n",
       "\\end{quote}\n",
       "\\rule{\\textwidth}{1pt}\n",
       "\\begin{verbatim}\n",
       "std(x::AbstractArray, w::AbstractWeights, [dim]; mean=nothing, corrected=false)\n",
       "\\end{verbatim}\n",
       "Compute the standard deviation of a real-valued array \\texttt{x}, optionally over a dimension \\texttt{dim}. Observations in \\texttt{x} are weighted using weight vector \\texttt{w}. The uncorrected (when \\texttt{corrected=false}) sample standard deviation is defined as:\n",
       "\n",
       "$$\\sqrt{\\frac{1}{\\sum{w}} \\sum_{i=1}^n {w_i\\left({x_i - μ}\\right)^2 }}$$\n",
       "where $n$ is the length of the input and $μ$ is the mean. The unbiased estimate (when \\texttt{corrected=true}) of the population standard deviation is computed by replacing $\\frac{1}{\\sum{w}}$ with a factor dependent on the type of weights used:\n",
       "\n",
       "\\begin{itemize}\n",
       "\\item \\texttt{AnalyticWeights}: $\\frac{1}{\\sum w - \\sum {w^2} / \\sum w}$\n",
       "\n",
       "\n",
       "\\item \\texttt{FrequencyWeights}: $\\frac{1}{\\sum{w} - 1}$\n",
       "\n",
       "\n",
       "\\item \\texttt{ProbabilityWeights}: $\\frac{n}{(n - 1) \\sum w}$ where $n$ equals \\texttt{count(!iszero, w)}\n",
       "\n",
       "\n",
       "\\item \\texttt{Weights}: \\texttt{ArgumentError} (bias correction not supported)\n",
       "\n",
       "\\end{itemize}\n"
      ],
      "text/markdown": [
       "```\n",
       "std(itr; corrected::Bool=true, mean=nothing[, dims])\n",
       "```\n",
       "\n",
       "Compute the sample standard deviation of collection `itr`.\n",
       "\n",
       "The algorithm returns an estimator of the generative distribution's standard deviation under the assumption that each entry of `itr` is an IID drawn from that generative distribution. For arrays, this computation is equivalent to calculating `sqrt(sum((itr .- mean(itr)).^2) / (length(itr) - 1))`. If `corrected` is `true`, then the sum is scaled with `n-1`, whereas the sum is scaled with `n` if `corrected` is `false` with `n` the number of elements in `itr`.\n",
       "\n",
       "If `itr` is an `AbstractArray`, `dims` can be provided to compute the standard deviation over dimensions, and `means` may contain means for each dimension of `itr`.\n",
       "\n",
       "A pre-computed `mean` may be provided. When `dims` is specified, `mean` must be an array with the same shape as `mean(itr, dims=dims)` (additional trailing singleton dimensions are allowed).\n",
       "\n",
       "!!! note\n",
       "    If array contains `NaN` or [`missing`](@ref) values, the result is also `NaN` or `missing` (`missing` takes precedence if array contains both). Use the [`skipmissing`](@ref) function to omit `missing` entries and compute the standard deviation of non-missing values.\n",
       "\n",
       "\n",
       "---\n",
       "\n",
       "```\n",
       "std(x::AbstractArray, w::AbstractWeights, [dim]; mean=nothing, corrected=false)\n",
       "```\n",
       "\n",
       "Compute the standard deviation of a real-valued array `x`, optionally over a dimension `dim`. Observations in `x` are weighted using weight vector `w`. The uncorrected (when `corrected=false`) sample standard deviation is defined as:\n",
       "\n",
       "$$\n",
       "\\sqrt{\\frac{1}{\\sum{w}} \\sum_{i=1}^n {w_i\\left({x_i - μ}\\right)^2 }}\n",
       "$$\n",
       "\n",
       "where $n$ is the length of the input and $μ$ is the mean. The unbiased estimate (when `corrected=true`) of the population standard deviation is computed by replacing $\\frac{1}{\\sum{w}}$ with a factor dependent on the type of weights used:\n",
       "\n",
       "  * `AnalyticWeights`: $\\frac{1}{\\sum w - \\sum {w^2} / \\sum w}$\n",
       "  * `FrequencyWeights`: $\\frac{1}{\\sum{w} - 1}$\n",
       "  * `ProbabilityWeights`: $\\frac{n}{(n - 1) \\sum w}$ where $n$ equals `count(!iszero, w)`\n",
       "  * `Weights`: `ArgumentError` (bias correction not supported)\n"
      ],
      "text/plain": [
       "\u001b[36m  std(itr; corrected::Bool=true, mean=nothing[, dims])\u001b[39m\n",
       "\n",
       "  Compute the sample standard deviation of collection \u001b[36mitr\u001b[39m.\n",
       "\n",
       "  The algorithm returns an estimator of the generative distribution's standard\n",
       "  deviation under the assumption that each entry of \u001b[36mitr\u001b[39m is an IID drawn from\n",
       "  that generative distribution. For arrays, this computation is equivalent to\n",
       "  calculating \u001b[36msqrt(sum((itr .- mean(itr)).^2) / (length(itr) - 1))\u001b[39m. If\n",
       "  \u001b[36mcorrected\u001b[39m is \u001b[36mtrue\u001b[39m, then the sum is scaled with \u001b[36mn-1\u001b[39m, whereas the sum is\n",
       "  scaled with \u001b[36mn\u001b[39m if \u001b[36mcorrected\u001b[39m is \u001b[36mfalse\u001b[39m with \u001b[36mn\u001b[39m the number of elements in \u001b[36mitr\u001b[39m.\n",
       "\n",
       "  If \u001b[36mitr\u001b[39m is an \u001b[36mAbstractArray\u001b[39m, \u001b[36mdims\u001b[39m can be provided to compute the standard\n",
       "  deviation over dimensions, and \u001b[36mmeans\u001b[39m may contain means for each dimension of\n",
       "  \u001b[36mitr\u001b[39m.\n",
       "\n",
       "  A pre-computed \u001b[36mmean\u001b[39m may be provided. When \u001b[36mdims\u001b[39m is specified, \u001b[36mmean\u001b[39m must be an\n",
       "  array with the same shape as \u001b[36mmean(itr, dims=dims)\u001b[39m (additional trailing\n",
       "  singleton dimensions are allowed).\n",
       "\n",
       "\u001b[36m\u001b[1m  │ \u001b[22m\u001b[39m\u001b[36m\u001b[1mNote\u001b[22m\u001b[39m\n",
       "\u001b[36m\u001b[1m  │\u001b[22m\u001b[39m\n",
       "\u001b[36m\u001b[1m  │\u001b[22m\u001b[39m  If array contains \u001b[36mNaN\u001b[39m or \u001b[36mmissing\u001b[39m values, the result is also \u001b[36mNaN\u001b[39m or\n",
       "\u001b[36m\u001b[1m  │\u001b[22m\u001b[39m  \u001b[36mmissing\u001b[39m (\u001b[36mmissing\u001b[39m takes precedence if array contains both). Use the\n",
       "\u001b[36m\u001b[1m  │\u001b[22m\u001b[39m  \u001b[36mskipmissing\u001b[39m function to omit \u001b[36mmissing\u001b[39m entries and compute the\n",
       "\u001b[36m\u001b[1m  │\u001b[22m\u001b[39m  standard deviation of non-missing values.\n",
       "\n",
       "  ────────────────────────────────────────────────────────────────────────────\n",
       "\n",
       "\u001b[36m  std(x::AbstractArray, w::AbstractWeights, [dim]; mean=nothing, corrected=false)\u001b[39m\n",
       "\n",
       "  Compute the standard deviation of a real-valued array \u001b[36mx\u001b[39m, optionally over a\n",
       "  dimension \u001b[36mdim\u001b[39m. Observations in \u001b[36mx\u001b[39m are weighted using weight vector \u001b[36mw\u001b[39m. The\n",
       "  uncorrected (when \u001b[36mcorrected=false\u001b[39m) sample standard deviation is defined as:\n",
       "\n",
       "\u001b[35m  \\sqrt{\\frac{1}{\\sum{w}} \\sum_{i=1}^n {w_i\\left({x_i - μ}\\right)^2 }}\u001b[39m\n",
       "\n",
       "  where \u001b[35mn\u001b[39m is the length of the input and \u001b[35mμ\u001b[39m is the mean. The unbiased estimate\n",
       "  (when \u001b[36mcorrected=true\u001b[39m) of the population standard deviation is computed by\n",
       "  replacing \u001b[35m\\frac{1}{\\sum{w}}\u001b[39m with a factor dependent on the type of weights\n",
       "  used:\n",
       "\n",
       "    •    \u001b[36mAnalyticWeights\u001b[39m: \u001b[35m\\frac{1}{\\sum w - \\sum {w^2} / \\sum w}\u001b[39m\n",
       "\n",
       "    •    \u001b[36mFrequencyWeights\u001b[39m: \u001b[35m\\frac{1}{\\sum{w} - 1}\u001b[39m\n",
       "\n",
       "    •    \u001b[36mProbabilityWeights\u001b[39m: \u001b[35m\\frac{n}{(n - 1) \\sum w}\u001b[39m where \u001b[35mn\u001b[39m equals\n",
       "        \u001b[36mcount(!iszero, w)\u001b[39m\n",
       "\n",
       "    •    \u001b[36mWeights\u001b[39m: \u001b[36mArgumentError\u001b[39m (bias correction not supported)"
      ]
     },
     "execution_count": 204,
     "metadata": {},
     "output_type": "execute_result"
    }
   ],
   "source": [
    "?std"
   ]
  },
  {
   "cell_type": "code",
   "execution_count": 247,
   "metadata": {},
   "outputs": [
    {
     "data": {
      "text/plain": [
       "normalize (generic function with 2 methods)"
      ]
     },
     "execution_count": 247,
     "metadata": {},
     "output_type": "execute_result"
    }
   ],
   "source": [
    "struct LayerNorm\n",
    "    γ\n",
    "    β\n",
    "end\n",
    "function LayerNorm(layer_length::Int, layer_dim::Int)\n",
    "    LayerNorm(rand(layer_length, layer_dim), zeros(layer_dim))\n",
    "end\n",
    "\n",
    "function (ln::LayerNorm)(x)\n",
    "    ln.γ * mat(normalize(x), dims = 1) .+ ln.β\n",
    "end\n",
    "\n",
    "function normalize(x; dim::Int = 1)\n",
    "    μ = mean(x,dims=dim) # Consider that the size of x is T,E,B -> must get mean over the dim T\n",
    "    σ = std(x,mean=μ,dims=dim)\n",
    "    (x.-μ)./σ\n",
    "end\n",
    "    "
   ]
  },
  {
   "cell_type": "code",
   "execution_count": 249,
   "metadata": {},
   "outputs": [
    {
     "ename": "LoadError",
     "evalue": "DimensionMismatch(\"A has dimensions (6,10) but B has dimensions (6,120)\")",
     "output_type": "error",
     "traceback": [
      "DimensionMismatch(\"A has dimensions (6,10) but B has dimensions (6,120)\")",
      "",
      "Stacktrace:",
      " [1] gemm_wrapper!(::Array{Float64,2}, ::Char, ::Char, ::Array{Float64,2}, ::Array{Float64,2}, ::LinearAlgebra.MulAddMul{true,true,Bool,Bool}) at C:\\buildbot\\worker\\package_win64\\build\\usr\\share\\julia\\stdlib\\v1.5\\LinearAlgebra\\src\\matmul.jl:569",
      " [2] mul! at C:\\buildbot\\worker\\package_win64\\build\\usr\\share\\julia\\stdlib\\v1.5\\LinearAlgebra\\src\\matmul.jl:169 [inlined]",
      " [3] mul! at C:\\buildbot\\worker\\package_win64\\build\\usr\\share\\julia\\stdlib\\v1.5\\LinearAlgebra\\src\\matmul.jl:208 [inlined]",
      " [4] *(::Array{Float64,2}, ::Array{Float64,2}) at C:\\buildbot\\worker\\package_win64\\build\\usr\\share\\julia\\stdlib\\v1.5\\LinearAlgebra\\src\\matmul.jl:160",
      " [5] (::LayerNorm)(::Array{Float64,4}) at .\\In[247]:10",
      " [6] top-level scope at In[249]:4",
      " [7] include_string(::Function, ::Module, ::String, ::String) at .\\loading.jl:1091"
     ]
    }
   ],
   "source": [
    "T,E,B = 6,10,3\n",
    "A = rand(T,E,B,4)\n",
    "ln = LayerNorm(T,E)\n",
    "N = ln(A)"
   ]
  },
  {
   "cell_type": "code",
   "execution_count": 222,
   "metadata": {},
   "outputs": [
    {
     "data": {
      "text/plain": [
       "5×4×2 Array{Float64,3}:\n",
       "[:, :, 1] =\n",
       " 0.168304  0.233563  0.651229  0.437155\n",
       " 0.810071  0.863391  0.939922  0.438852\n",
       " 0.218141  0.679536  0.200636  0.192633\n",
       " 0.311422  0.362717  0.259577  0.918964\n",
       " 0.828296  0.92718   0.937675  0.13525\n",
       "\n",
       "[:, :, 2] =\n",
       " 0.81053   0.960284  0.885215   0.915812\n",
       " 0.602327  0.518742  0.773134   0.297471\n",
       " 0.971545  0.540126  0.0436613  0.40047\n",
       " 0.433485  0.173787  0.211132   0.277434\n",
       " 0.185641  0.889102  0.956272   0.683543"
      ]
     },
     "execution_count": 222,
     "metadata": {},
     "output_type": "execute_result"
    }
   ],
   "source": [
    "A = rand(5,4,2)"
   ]
  },
  {
   "cell_type": "code",
   "execution_count": 223,
   "metadata": {},
   "outputs": [
    {
     "data": {
      "text/plain": [
       "1×4×2 Array{Float64,3}:\n",
       "[:, :, 1] =\n",
       " 0.325418  0.305141  0.356213  0.309147\n",
       "\n",
       "[:, :, 2] =\n",
       " 0.308947  0.317759  0.417005  0.276555"
      ]
     },
     "execution_count": 223,
     "metadata": {},
     "output_type": "execute_result"
    }
   ],
   "source": [
    "m = mean(A,dims=1)\n",
    "st = std(A,mean=m,dims=1)"
   ]
  },
  {
   "cell_type": "code",
   "execution_count": 224,
   "metadata": {},
   "outputs": [
    {
     "data": {
      "text/plain": [
       "1×4×2 Array{Float64,3}:\n",
       "[:, :, 1] =\n",
       " 0.467247  0.613277  0.597808  0.424571\n",
       "\n",
       "[:, :, 2] =\n",
       " 0.600706  0.616408  0.573883  0.514946"
      ]
     },
     "execution_count": 224,
     "metadata": {},
     "output_type": "execute_result"
    }
   ],
   "source": [
    "m"
   ]
  },
  {
   "cell_type": "code",
   "execution_count": 225,
   "metadata": {},
   "outputs": [
    {
     "data": {
      "text/plain": [
       "5×4×2 Array{Float64,3}:\n",
       "[:, :, 1] =\n",
       " -0.298943  -0.379715    0.053421   0.0125843\n",
       "  0.342824   0.250113    0.342114   0.0142811\n",
       " -0.249106   0.0662586  -0.397172  -0.231938\n",
       " -0.155825  -0.25056    -0.33823    0.494393\n",
       "  0.361049   0.313903    0.339867  -0.289321\n",
       "\n",
       "[:, :, 2] =\n",
       "  0.209824     0.343876    0.311332   0.400866\n",
       "  0.00162147  -0.0976662   0.199252  -0.217475\n",
       "  0.370839    -0.0762827  -0.530222  -0.114476\n",
       " -0.167221    -0.442621   -0.362751  -0.237512\n",
       " -0.415065     0.272694    0.382389   0.168597"
      ]
     },
     "execution_count": 225,
     "metadata": {},
     "output_type": "execute_result"
    }
   ],
   "source": [
    "A.-m"
   ]
  },
  {
   "cell_type": "code",
   "execution_count": 231,
   "metadata": {},
   "outputs": [
    {
     "data": {
      "text/plain": [
       "5×4×2 Array{Float64,3}:\n",
       "[:, :, 1] =\n",
       " -0.918642  -1.24439    0.149969   0.0407065\n",
       "  1.05349    0.819663   0.960419   0.0461952\n",
       " -0.765496   0.217141  -1.11498   -0.75025\n",
       " -0.478846  -0.821127  -0.949517   1.59921\n",
       "  1.10949    1.02871    0.954113  -0.935867\n",
       "\n",
       "[:, :, 2] =\n",
       "  0.67916      1.08219    0.74659    1.4495\n",
       "  0.00524837  -0.307359   0.477816  -0.786372\n",
       "  1.20034     -0.240064  -1.2715    -0.413937\n",
       " -0.54126     -1.39294   -0.869896  -0.858823\n",
       " -1.34348      0.858179   0.916989   0.609634"
      ]
     },
     "execution_count": 231,
     "metadata": {},
     "output_type": "execute_result"
    }
   ],
   "source": [
    "Q = normalize(A)"
   ]
  },
  {
   "cell_type": "code",
   "execution_count": 239,
   "metadata": {},
   "outputs": [
    {
     "data": {
      "text/plain": [
       "isNormal (generic function with 1 method)"
      ]
     },
     "execution_count": 239,
     "metadata": {},
     "output_type": "execute_result"
    }
   ],
   "source": [
    "isNormal(x) = isapprox(x,normalize(x))"
   ]
  },
  {
   "cell_type": "code",
   "execution_count": 240,
   "metadata": {},
   "outputs": [
    {
     "data": {
      "text/plain": [
       "true"
      ]
     },
     "execution_count": 240,
     "metadata": {},
     "output_type": "execute_result"
    }
   ],
   "source": [
    "isNormal(Q)"
   ]
  },
  {
   "cell_type": "code",
   "execution_count": 233,
   "metadata": {},
   "outputs": [
    {
     "data": {
      "text/plain": [
       "5×4×2 Array{Float64,3}:\n",
       "[:, :, 1] =\n",
       " -0.918642  -1.24439    0.149969   0.0407065\n",
       "  1.05349    0.819663   0.960419   0.0461952\n",
       " -0.765496   0.217141  -1.11498   -0.75025\n",
       " -0.478846  -0.821127  -0.949517   1.59921\n",
       "  1.10949    1.02871    0.954113  -0.935867\n",
       "\n",
       "[:, :, 2] =\n",
       "  0.67916      1.08219    0.74659    1.4495\n",
       "  0.00524837  -0.307359   0.477816  -0.786372\n",
       "  1.20034     -0.240064  -1.2715    -0.413937\n",
       " -0.54126     -1.39294   -0.869896  -0.858823\n",
       " -1.34348      0.858179   0.916989   0.609634"
      ]
     },
     "execution_count": 233,
     "metadata": {},
     "output_type": "execute_result"
    }
   ],
   "source": [
    "normalize(Q)"
   ]
  },
  {
   "cell_type": "code",
   "execution_count": 26,
   "metadata": {},
   "outputs": [
    {
     "name": "stdout",
     "output_type": "stream",
     "text": [
      "search: \u001b[0m\u001b[1mm\u001b[22m\u001b[0m\u001b[1ma\u001b[22m\u001b[0m\u001b[1mt\u001b[22mch \u001b[0m\u001b[1mM\u001b[22m\u001b[0m\u001b[1ma\u001b[22m\u001b[0m\u001b[1mt\u001b[22mrix \u001b[0m\u001b[1mM\u001b[22m\u001b[0m\u001b[1ma\u001b[22m\u001b[0m\u001b[1mt\u001b[22mhConstants Bit\u001b[0m\u001b[1mM\u001b[22m\u001b[0m\u001b[1ma\u001b[22m\u001b[0m\u001b[1mt\u001b[22mrix each\u001b[0m\u001b[1mm\u001b[22m\u001b[0m\u001b[1ma\u001b[22m\u001b[0m\u001b[1mt\u001b[22mch L\u001b[0m\u001b[1mM\u001b[22mD\u001b[0m\u001b[1ma\u001b[22m\u001b[0m\u001b[1mt\u001b[22ma VecOr\u001b[0m\u001b[1mM\u001b[22m\u001b[0m\u001b[1ma\u001b[22m\u001b[0m\u001b[1mt\u001b[22m @fast\u001b[0m\u001b[1mm\u001b[22m\u001b[0m\u001b[1ma\u001b[22m\u001b[0m\u001b[1mt\u001b[22mh\n",
      "\n",
      "Couldn't find \u001b[36mmat\u001b[39m\n",
      "Perhaps you meant map, max, cat, match, map!, mark, fma, imag, min, mod or mv\n"
     ]
    },
    {
     "data": {
      "text/latex": [
       "No documentation found.\n",
       "\n",
       "Binding \\texttt{mat} does not exist.\n",
       "\n"
      ],
      "text/markdown": [
       "No documentation found.\n",
       "\n",
       "Binding `mat` does not exist.\n"
      ],
      "text/plain": [
       "  No documentation found.\n",
       "\n",
       "  Binding \u001b[36mmat\u001b[39m does not exist."
      ]
     },
     "execution_count": 26,
     "metadata": {},
     "output_type": "execute_result"
    }
   ],
   "source": [
    "?mat"
   ]
  },
  {
   "cell_type": "code",
   "execution_count": null,
   "metadata": {},
   "outputs": [],
   "source": []
  }
 ],
 "metadata": {
  "kernelspec": {
   "display_name": "Julia 1.5.3",
   "language": "julia",
   "name": "julia-1.5"
  },
  "language_info": {
   "file_extension": ".jl",
   "mimetype": "application/julia",
   "name": "julia",
   "version": "1.5.3"
  }
 },
 "nbformat": 4,
 "nbformat_minor": 4
}
